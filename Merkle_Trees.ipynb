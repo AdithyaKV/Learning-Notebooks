{
 "cells": [
  {
   "cell_type": "markdown",
   "id": "669a826e-d76f-457d-be41-bb7ea1fde684",
   "metadata": {},
   "source": [
    "# Merkle Trees"
   ]
  },
  {
   "cell_type": "code",
   "execution_count": 1,
   "id": "831e7013-d5b3-4617-8afd-755496ed571f",
   "metadata": {},
   "outputs": [
    {
     "name": "stdout",
     "output_type": "stream",
     "text": [
      "Requirement already satisfied: pymerkle in /home/local_user/.local/lib/python3.9/site-packages (6.1.0)\n",
      "Requirement already satisfied: cachetools==5.3.1 in /home/local_user/.local/lib/python3.9/site-packages (from pymerkle) (5.3.1)\n"
     ]
    }
   ],
   "source": [
    "!pip3 install pymerkle"
   ]
  },
  {
   "cell_type": "code",
   "execution_count": 2,
   "id": "55b77ba3-8b45-470c-9966-0573a16ef9af",
   "metadata": {},
   "outputs": [],
   "source": [
    "import pymerkle\n",
    "import json\n",
    "from hashlib import sha256\n",
    "import random"
   ]
  },
  {
   "attachments": {},
   "cell_type": "markdown",
   "id": "259cf211-1bb6-4f78-a7f8-0229938288ea",
   "metadata": {},
   "source": [
    "Suppose you had a list with some entries and some party wanted to access some entries of the list. The caveat is that they want proof that the entry is definitely from the list and not forged by you. How would you go about doing it? One common way is to have what we call a hash checksum, and we can send the entire list along with the checksum, so that they can access the entry while knowing that it is valid. The question now is, what do we do if the list is large, say containing millions of rows of data? Is it viable to send the entire list and checksum, just so the other person can access a few entries? A solution we can use is merkle trees. Merkle trees are a type of hashing a list, database, or anything that offers a type of commitment. Once the sender hashes the tree, they're commiting to that tree and can't modify it, like a checksum. The main diffrence with a merkle tree is that you can send the checksum, the entry and a proof that the entry is from the checksummed database. We will go over the proof later below\n",
    "we have an image showing how it works:\n",
    "![Hash_Tree](https://upload.wikimedia.org/wikipedia/commons/thumb/9/95/Hash_Tree.svg/500px-Hash_Tree.svg.png)\n",
    "\n",
    "Here we have data L1 to L4, and to hash the list, we first hash every value, and then further hash every pair of hashes until we are left with a single hash value, which is our root value. With this, we can get a checksum property to show that the list is original"
   ]
  },
  {
   "cell_type": "markdown",
   "id": "0e3f4169-3ad0-437f-adc6-e412bac6b1bc",
   "metadata": {},
   "source": [
    "Let's do our own example. Here we have a list with four entries:"
   ]
  },
  {
   "cell_type": "code",
   "execution_count": 3,
   "id": "49c5cac3-5d00-488b-807d-b89f67e9cf30",
   "metadata": {},
   "outputs": [],
   "source": [
    "list = [\"entry1\", \"entry2\", \"entry3\", \"entry4\"]"
   ]
  },
  {
   "cell_type": "code",
   "execution_count": 4,
   "id": "0e17ed4f-4446-473e-a800-322882317e26",
   "metadata": {},
   "outputs": [],
   "source": [
    "#merkle tree. disabling security so that we can verify the hashes easily\n",
    "tree = pymerkle.InmemoryTree(algorithm='sha256', disable_security = True)"
   ]
  },
  {
   "cell_type": "code",
   "execution_count": 5,
   "id": "bbf04732-c7ab-431a-8864-4568d0c661af",
   "metadata": {},
   "outputs": [],
   "source": [
    "#adding entries to the merkle tree\n",
    "for item in list:\n",
    "    tree.append_entry(bytes(item, 'utf-8'))"
   ]
  },
  {
   "cell_type": "code",
   "execution_count": 6,
   "id": "abefe332-41a6-420a-8119-51ba31f136d6",
   "metadata": {},
   "outputs": [
    {
     "name": "stdout",
     "output_type": "stream",
     "text": [
      "\n",
      "\n",
      " └─66d65d6a...\n",
      "    ├──f8e12626...\n",
      "    │   ├──c17dd901...\n",
      "    │   └──ad206374...\n",
      "    └──85dd631d...\n",
      "        ├──a671a481...\n",
      "        └──81f7edb5...\n",
      "\n",
      "\n"
     ]
    }
   ],
   "source": [
    "print(tree)"
   ]
  },
  {
   "cell_type": "markdown",
   "id": "e5e043ee-9466-4e2e-8beb-c2f866fffc8d",
   "metadata": {},
   "source": [
    "In the tree above, we have 4 leaves, which are the four entries in the list, where the topmost leaf is the first leaf and the bottom most leaf is the last entry, we can see that the subsequent non-leaf values are the hash of the nodes two children. This is repeated until we reach the root, which is the checksum. We can use the get_leaf(index) to get the hash of each of the entries and get_state() to get the root value."
   ]
  },
  {
   "cell_type": "code",
   "execution_count": 7,
   "id": "87bc2a28-1e45-4f15-8165-2dd3d94bb2cd",
   "metadata": {},
   "outputs": [
    {
     "name": "stdout",
     "output_type": "stream",
     "text": [
      "Root Value / Hash of entire list:  66d65d6a53762dc76b9de87d6c0dc692f5a13075ac8d530a4d86999095660f59\n",
      "Hash of entry 1:  c17dd9010a5c6b0e5b2ad5a845762d8b206e6166a4e63d32deca8c5664fdfcac\n"
     ]
    }
   ],
   "source": [
    "print(\"Root Value / Hash of entire list: \", tree.get_state().hex())\n",
    "print(\"Hash of entry 1: \", tree.get_leaf(1).hex())"
   ]
  },
  {
   "cell_type": "code",
   "execution_count": 8,
   "id": "100b8487-c4f4-4a87-9d7e-fe671fd8a9ce",
   "metadata": {},
   "outputs": [
    {
     "data": {
      "text/plain": [
       "'c17dd9010a5c6b0e5b2ad5a845762d8b206e6166a4e63d32deca8c5664fdfcac'"
      ]
     },
     "execution_count": 8,
     "metadata": {},
     "output_type": "execute_result"
    }
   ],
   "source": [
    "#We can see that the first entry hashes to the leaf value correctly\n",
    "sha256((list[0]).encode('utf-8')).hexdigest()"
   ]
  },
  {
   "cell_type": "markdown",
   "id": "7015ffb9-9c25-43e7-8a1c-e9995b6acc99",
   "metadata": {},
   "source": [
    "So how do we use this tree to verify than an entry hashes to the root? We essentially just send the sibling of the entry at every level. So in the diagram, if we wanted to send L1, we would send L1, the cheksum Top Hash, and the sibling list Hash 0-1 and Hash 1. So to verify, the other party would hash L1 to get Hash 0-0, hash it together with Hash 0-1 to get Hash 0, and then hash it with Hash 1 to get Top Hash and verify if it matches the provided Top Hash.\n",
    "for the tree we have the proof below"
   ]
  },
  {
   "cell_type": "code",
   "execution_count": 9,
   "id": "dacab102-a72b-420c-8730-c4bd6af24ce9",
   "metadata": {
    "scrolled": true
   },
   "outputs": [
    {
     "name": "stdout",
     "output_type": "stream",
     "text": [
      "{\n",
      "    \"metadata\": {\n",
      "        \"algorithm\": \"sha256\",\n",
      "        \"security\": false,\n",
      "        \"size\": 4\n",
      "    },\n",
      "    \"rule\": [\n",
      "        0,\n",
      "        0,\n",
      "        0\n",
      "    ],\n",
      "    \"subset\": [],\n",
      "    \"path\": [\n",
      "        \"c17dd9010a5c6b0e5b2ad5a845762d8b206e6166a4e63d32deca8c5664fdfcac\",\n",
      "        \"ad2063741cce2d9f2862b07152b06528d175e9e658ade8f2daa416834c9c089a\",\n",
      "        \"85dd631d817b68af765949d46f030ba2896c25d68ad884cf871de10b526f14ff\"\n",
      "    ]\n",
      "}\n"
     ]
    }
   ],
   "source": [
    "proof = tree.prove_inclusion(1)\n",
    "proof_json = proof.serialize()\n",
    "print(json.dumps(proof_json, indent=4))"
   ]
  },
  {
   "cell_type": "markdown",
   "id": "0bcacc09-e992-44a6-9f87-048d355cf910",
   "metadata": {},
   "source": [
    "we can see the path list in the proof contains all the siblings, until the root"
   ]
  },
  {
   "cell_type": "code",
   "execution_count": 10,
   "id": "e82a77a1-dd4c-4dc7-a634-f7f75285264a",
   "metadata": {},
   "outputs": [],
   "source": [
    "#hashing algorithm that hashes two diffrent hashes together\n",
    "hasher = pymerkle.hasher.MerkleHasher(tree.algorithm, tree.security)"
   ]
  },
  {
   "cell_type": "markdown",
   "id": "5b2e14c5-22d5-4f56-983d-40fd87469d4d",
   "metadata": {},
   "source": [
    "For the verification, the verifier needs the root, the entry value that needs to be verified, and the proof, which is the list of all the siblings"
   ]
  },
  {
   "cell_type": "code",
   "execution_count": 11,
   "id": "6d58c87f-2fe1-44b6-982c-4d10766e621c",
   "metadata": {},
   "outputs": [
    {
     "name": "stdout",
     "output_type": "stream",
     "text": [
      "Is the proof provided for the correct entry?:  True\n",
      "Does the entry hash into the root?:  True\n"
     ]
    }
   ],
   "source": [
    "#We look at how a reciever can verify the entry, using only the following three variables:\n",
    "root = tree.get_state().hex()\n",
    "entry = list[0]\n",
    "proof_siblings = proof_json[\"path\"]\n",
    "\n",
    "#we first verify that the proof provided is for the correct entry by seeing if the entry hashes to the leaf value in the proof\n",
    "leaf = sha256((entry).encode('utf-8'))\n",
    "print(\"Is the proof provided for the correct entry?: \", leaf.hexdigest() == proof_siblings[0])\n",
    "\n",
    "#we now iteratively hash the leaf with its sibling until we get to the last value and check if it matches the root value, which is the checksum.\n",
    "curr = leaf.digest()\n",
    "for i in range(len(proof_siblings)-1):\n",
    "    curr = hasher.hash_pair(curr,bytes.fromhex(proof_siblings[i+1]))\n",
    "print(\"Does the entry hash into the root?: \", root == curr.hex())\n"
   ]
  },
  {
   "cell_type": "markdown",
   "id": "9fcaa28b-a93f-485d-9e11-90d0e5060b2f",
   "metadata": {},
   "source": [
    "Security of the hash function"
   ]
  },
  {
   "cell_type": "markdown",
   "id": "e776abbc-1f5b-4fbf-b498-970f1168ede5",
   "metadata": {},
   "source": [
    "Now that we showed the commitment part, let's look at the how the merkle tree is smaller. We compare merkle tree against just sending the entire list, which is a trivial way for a reciever to receieve an entry and be sure that the entry they recieved is from the list."
   ]
  },
  {
   "cell_type": "code",
   "execution_count": 12,
   "id": "584122f0-e38d-434d-a354-04b610f657f6",
   "metadata": {},
   "outputs": [
    {
     "name": "stdout",
     "output_type": "stream",
     "text": [
      "Length of each proof:  314\n",
      "Length of array:  24\n"
     ]
    }
   ],
   "source": [
    "print(\"Length of each proof: \", len(bytes(json.dumps(proof_json).encode('utf-8'))))\n",
    "print(\"Length of array: \", len(bytes(''.join(list), 'utf-8')))"
   ]
  },
  {
   "cell_type": "markdown",
   "id": "e63cab14-cd18-4dd3-a047-fc6489609583",
   "metadata": {},
   "source": [
    "This makes sense since the proof of the hash contains 3 values, and along with the entry and the checksum, we're sending more data to prove one entry than the entire list itself. But note that the size of proof grows with log n, compared to the list which is n. So let's look at a bigger list, say one with 10,000 entries"
   ]
  },
  {
   "cell_type": "code",
   "execution_count": 13,
   "id": "7ae8845a-da6b-426d-9c29-ae45aee5d251",
   "metadata": {},
   "outputs": [],
   "source": [
    "large_list = []\n",
    "for i in range(10000):\n",
    "    large_list.append(''.join(random.choice(\"abcdefghijklmnopqrstuvwxyz\") for _ in range(256)))"
   ]
  },
  {
   "cell_type": "code",
   "execution_count": 14,
   "id": "2814bfa5-7e27-4e43-9e47-0aa9f1b03276",
   "metadata": {},
   "outputs": [],
   "source": [
    "tree_2 = pymerkle.InmemoryTree(algorithm='sha256', disable_security = True)\n",
    "for item in large_list:\n",
    "    tree_2.append_entry(bytes(item, 'utf-8'))"
   ]
  },
  {
   "cell_type": "code",
   "execution_count": 15,
   "id": "3108e068-f324-4e80-ac07-b7b3d0831f68",
   "metadata": {},
   "outputs": [
    {
     "name": "stdout",
     "output_type": "stream",
     "text": [
      "{\n",
      "    \"metadata\": {\n",
      "        \"algorithm\": \"sha256\",\n",
      "        \"security\": false,\n",
      "        \"size\": 10000\n",
      "    },\n",
      "    \"rule\": [\n",
      "        1,\n",
      "        0,\n",
      "        1,\n",
      "        1,\n",
      "        1,\n",
      "        0,\n",
      "        0,\n",
      "        0,\n",
      "        0,\n",
      "        0,\n",
      "        0,\n",
      "        0,\n",
      "        0,\n",
      "        0,\n",
      "        0\n",
      "    ],\n",
      "    \"subset\": [],\n",
      "    \"path\": [\n",
      "        \"9775c3d2bee5afff4c8916981313632a3bc0a15c1e53cf002271b00302ca560c\",\n",
      "        \"f98be43e3f1fbe181b910976396fffb52e0cda43324c4e9b66f7d12763a6a070\",\n",
      "        \"55f87db5b892fb6460e6c3f08a5d151a37b8cd5cf24fa3579c92724b116d17ca\",\n",
      "        \"e3f62c0d167165508b65e9749319820b9610dc519bbf93cec8e2815e8cf156ee\",\n",
      "        \"28ef2b282a6a03bbfa7878fe010808e10361b67b6ca25308d4801ee698a145dc\",\n",
      "        \"5faba11bc7b65c9e722f71e3e998c44320aa4879494faa510a44d37aa8903276\",\n",
      "        \"d8612972d84b90ee3f0a54f92fbba3447cae43b1672f3ce71c227856a4b1a14f\",\n",
      "        \"b692e77915ed7533b8ab94229167dbbca0ef6a97538d46b83d66db00e15bdde3\",\n",
      "        \"a9865da6aae74be21ee484a485d384d086d06d8bef30a1ab53227c98a32615e8\",\n",
      "        \"2af2a7a27fcc1defa161983559a3e1524655220517267bd259eabd465037ecb1\",\n",
      "        \"dd789e8a31b4a57ad4fd465af0c95239a1a2ffd8f0284d5d4545193d78b8c45a\",\n",
      "        \"bf2c80a1418142520c4161f2070b09d03952fd7073e791a3b56aa2d296be1216\",\n",
      "        \"98315c5f50962c0e52d08d1e01724a77e8e1554c07fc9faf587851f7502ac9d9\",\n",
      "        \"3694df656395b0c63d5d484084c67944d1ab3645a06279f41327302911cde1bb\",\n",
      "        \"804f2af74a4e670a7c089516cb49a4d8cff1f436f605d261a832785ff4906094\"\n",
      "    ]\n",
      "}\n"
     ]
    }
   ],
   "source": [
    "proof = tree_2.prove_inclusion(30)\n",
    "proof_json = proof.serialize()\n",
    "print(json.dumps(proof_json, indent=4))"
   ]
  },
  {
   "cell_type": "code",
   "execution_count": 16,
   "id": "0d32039b-0f35-47d3-89ec-ef1a932d5f6a",
   "metadata": {},
   "outputs": [
    {
     "name": "stdout",
     "output_type": "stream",
     "text": [
      "Length of each proof:  1170\n",
      "Length of array:  2560000\n"
     ]
    }
   ],
   "source": [
    "print(\"Length of each proof: \", len(bytes(json.dumps(proof_json).encode('utf-8'))))\n",
    "print(\"Length of array: \", len(bytes(''.join(large_list), 'utf-8')))"
   ]
  },
  {
   "cell_type": "markdown",
   "id": "19cbacdc-65f2-4834-942d-635cdd7415f9",
   "metadata": {},
   "source": [
    "With larger lists like this, we see how it is better to use merkle tree than just sending the list . Note that the proof length we have is for each entry, so merkle trees are only efficient if the second party is only requesting for a few entries, in this case, having a merkle tree is only more efficient than sending the entire list if the second party requests less than 2000 entries out of the 10,000 size list."
   ]
  },
  {
   "cell_type": "markdown",
   "id": "bd7d9849-475e-468e-996f-827c967df906",
   "metadata": {},
   "source": [
    "Merkle trees are really useful for this case, and are used alot in cryptocurrency and in theoretical settings to construct SNARGs(this will be a topic for a diffrent notebook)"
   ]
  }
 ],
 "metadata": {
  "kernelspec": {
   "display_name": "Python 3",
   "language": "python",
   "name": "python3"
  },
  "language_info": {
   "codemirror_mode": {
    "name": "ipython",
    "version": 3
   },
   "file_extension": ".py",
   "mimetype": "text/x-python",
   "name": "python",
   "nbconvert_exporter": "python",
   "pygments_lexer": "ipython3",
   "version": "3.9.2"
  }
 },
 "nbformat": 4,
 "nbformat_minor": 5
}
